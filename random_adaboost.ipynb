{
 "cells": [
  {
   "cell_type": "code",
   "execution_count": 3,
   "metadata": {},
   "outputs": [
    {
     "name": "stdout",
     "output_type": "stream",
     "text": [
      "0.770745044429255\n"
     ]
    }
   ],
   "source": [
    "import pandas\n",
    "from sklearn import model_selection\n",
    "from sklearn.ensemble import BaggingClassifier\n",
    "from sklearn.tree import DecisionTreeClassifier\n",
    "from sklearn.ensemble import RandomForestClassifier\n",
    "url = \"https://raw.githubusercontent.com/jbrownlee/Datasets/master/pima-indians-diabetes.data.csv\"\n",
    "names = ['preg', 'plas', 'pres', 'skin', 'test', 'mass', 'pedi', 'age', 'class']\n",
    "dataframe = pandas.read_csv(url, names=names)\n",
    "array = dataframe.values\n",
    "X = array[:,0:8]\n",
    "Y = array[:,8]\n",
    "seed = 7\n",
    "kfold = model_selection.KFold(n_splits=10, random_state=seed)\n",
    "cart = DecisionTreeClassifier()\n",
    "num_trees = 100\n",
    "model = BaggingClassifier(base_estimator=cart, n_estimators=num_trees, random_state=seed)\n",
    "results = model_selection.cross_val_score(model, X, Y, cv=kfold)\n",
    "print(results.mean())"
   ]
  },
  {
   "cell_type": "code",
   "execution_count": 5,
   "metadata": {},
   "outputs": [
    {
     "name": "stdout",
     "output_type": "stream",
     "text": [
      "0.7668831168831168\n"
     ]
    }
   ],
   "source": [
    "max_features = 3\n",
    "kfold_rdf = model_selection.KFold(n_splits=10, random_state=seed)\n",
    "model_rdf= RandomForestClassifier(n_estimators=num_trees, max_features=max_features)\n",
    "results_rdf = model_selection.cross_val_score(model_rdf, X, Y, cv=kfold)\n",
    "print(results_rdf.mean())"
   ]
  },
  {
   "cell_type": "code",
   "execution_count": 7,
   "metadata": {},
   "outputs": [
    {
     "name": "stdout",
     "output_type": "stream",
     "text": [
      "Accuracy on trainning set:1.000\n",
      "Accuracy on trainning set:0.766\n"
     ]
    }
   ],
   "source": [
    "import pandas\n",
    "from sklearn.model_selection import train_test_split\n",
    "from sklearn.ensemble import BaggingClassifier\n",
    "from sklearn.tree import DecisionTreeClassifier\n",
    "from sklearn.ensemble import RandomForestClassifier\n",
    "url = \"https://raw.githubusercontent.com/jbrownlee/Datasets/master/pima-indians-diabetes.data.csv\"\n",
    "names = ['preg', 'plas', 'pres', 'skin', 'test', 'mass', 'pedi', 'age', 'class']\n",
    "dataframe = pandas.read_csv(url, names=names)\n",
    "X=dataframe.iloc[:,0:8]\n",
    "y=dataframe.iloc[:,8]\n",
    "X_train,X_test,y_train,y_test = train_test_split(X,y,random_state=7,stratify=y)\n",
    "forest=RandomForestClassifier(n_estimators=100,random_state=7)\n",
    "forest.fit(X_train,y_train)\n",
    "print(\"Accuracy on trainning set:{:.3f}\".format(forest.score(X_train,y_train)))\n",
    "print(\"Accuracy on trainning set:{:.3f}\".format(forest.score(X_test,y_test)))\n",
    "\n"
   ]
  },
  {
   "cell_type": "code",
   "execution_count": 8,
   "metadata": {},
   "outputs": [
    {
     "name": "stdout",
     "output_type": "stream",
     "text": [
      "Accuracy on trainning set:0.986\n",
      "Accuracy on trainning set:0.750\n"
     ]
    }
   ],
   "source": [
    "forest_2=RandomForestClassifier(n_estimators=10,random_state=7)\n",
    "forest_2.fit(X_train,y_train)\n",
    "print(\"Accuracy on trainning set:{:.3f}\".format(forest_2.score(X_train,y_train)))\n",
    "print(\"Accuracy on trainning set:{:.3f}\".format(forest_2.score(X_test,y_test)))\n"
   ]
  },
  {
   "cell_type": "code",
   "execution_count": 9,
   "metadata": {},
   "outputs": [
    {
     "name": "stdout",
     "output_type": "stream",
     "text": [
      "Accuracy on trainning set:0.851\n",
      "Accuracy on trainning set:0.776\n"
     ]
    }
   ],
   "source": [
    "from sklearn.ensemble import AdaBoostClassifier\n",
    "ada = AdaBoostClassifier(n_estimators = 100,random_state = 7)\n",
    "ada.fit(X_train,y_train)\n",
    "print(\"Accuracy on trainning set:{:.3f}\".format(ada.score(X_train,y_train)))\n",
    "print(\"Accuracy on trainning set:{:.3f}\".format(ada.score(X_test,y_test)))"
   ]
  },
  {
   "cell_type": "code",
   "execution_count": 10,
   "metadata": {},
   "outputs": [
    {
     "name": "stdout",
     "output_type": "stream",
     "text": [
      "Accuracy on trainning set:0.793\n",
      "Accuracy on trainning set:0.766\n"
     ]
    }
   ],
   "source": [
    "from sklearn.ensemble import AdaBoostClassifier\n",
    "ada_2= AdaBoostClassifier(n_estimators = 10,random_state = 7)\n",
    "ada_2.fit(X_train,y_train)\n",
    "print(\"Accuracy on trainning set:{:.3f}\".format(ada_2.score(X_train,y_train)))\n",
    "print(\"Accuracy on trainning set:{:.3f}\".format(ada_2.score(X_test,y_test)))"
   ]
  },
  {
   "cell_type": "code",
   "execution_count": 15,
   "metadata": {},
   "outputs": [
    {
     "name": "stdout",
     "output_type": "stream",
     "text": [
      "Accuracy on trainning set:0.832\n",
      "Accuracy on trainning set:0.776\n"
     ]
    }
   ],
   "source": [
    "from sklearn.ensemble import AdaBoostClassifier\n",
    "ada_3= AdaBoostClassifier(learning_rate=1,random_state = 7)\n",
    "ada_3.fit(X_train,y_train)\n",
    "print(\"Accuracy on trainning set:{:.3f}\".format(ada_3.score(X_train,y_train)))\n",
    "print(\"Accuracy on trainning set:{:.3f}\".format(ada_3.score(X_test,y_test)))"
   ]
  },
  {
   "cell_type": "code",
   "execution_count": 17,
   "metadata": {},
   "outputs": [
    {
     "name": "stdout",
     "output_type": "stream",
     "text": [
      "Model two Accuracy on trainning set:0.793\n",
      "Model two Accuracy on trainning set:0.766\n"
     ]
    }
   ],
   "source": [
    "from sklearn.ensemble import GradientBoostingClassifier\n",
    "grbt = GradientBoostingClassifier(random_state=7,learning_rate=0.01)\n",
    "grbt.fit(X_train,y_train)\n",
    "print(\"Model two Accuracy on trainning set:{:.3f}\".format(grbt.score(X_train,y_train)))\n",
    "print(\"Model two Accuracy on trainning set:{:.3f}\".format(grbt.score(X_test,y_test)))"
   ]
  },
  {
   "cell_type": "code",
   "execution_count": 25,
   "metadata": {},
   "outputs": [
    {
     "name": "stdout",
     "output_type": "stream",
     "text": [
      "Model two Accuracy on trainning set:0.797\n",
      "Model two Accuracy on trainning set:0.766\n"
     ]
    }
   ],
   "source": [
    "from sklearn.ensemble import GradientBoostingClassifier\n",
    "grbt_2 = GradientBoostingClassifier(random_state=7,n_estimators=10)\n",
    "grbt_2.fit(X_train,y_train)\n",
    "print(\"Model two Accuracy on trainning set:{:.3f}\".format(grbt_2.score(X_train,y_train)))\n",
    "print(\"Model two Accuracy on trainning set:{:.3f}\".format(grbt_2.score(X_test,y_test)))"
   ]
  },
  {
   "cell_type": "code",
   "execution_count": 26,
   "metadata": {},
   "outputs": [
    {
     "data": {
      "text/plain": [
       "array([1, 1, 0, 1, 1, 0, 0, 1, 1, 0, 0, 0, 0, 0, 0, 0, 1, 1, 0, 0, 1, 0,\n",
       "       1, 1, 0, 0, 0, 0, 1, 0, 0, 0, 0, 0, 0, 0, 0, 0, 0, 0, 0, 0, 0, 0,\n",
       "       0, 0, 0, 1, 0, 0, 1, 0, 0, 0, 0, 1, 0, 0, 0, 1, 0, 0, 1, 0, 0, 0,\n",
       "       0, 0, 0, 0, 1, 0, 0, 0, 0, 0, 0, 0, 1, 0, 0, 0, 1, 0, 0, 1, 0, 0,\n",
       "       0, 0, 0, 1, 0, 0, 1, 0, 1, 0, 0, 1, 0, 0, 0, 1, 0, 0, 0, 1, 0, 0,\n",
       "       0, 1, 0, 0, 0, 0, 0, 0, 0, 0, 0, 0, 0, 0, 0, 1, 0, 1, 0, 1, 1, 1,\n",
       "       0, 0, 0, 1, 0, 1, 1, 0, 0, 0, 0, 0, 0, 0, 0, 0, 0, 0, 0, 0, 1, 0,\n",
       "       0, 0, 0, 0, 0, 0, 0, 0, 0, 0, 0, 0, 0, 0, 0, 0, 0, 0, 0, 0, 0, 0,\n",
       "       0, 1, 0, 0, 0, 1, 1, 1, 0, 0, 0, 0, 0, 0, 1, 0])"
      ]
     },
     "execution_count": 26,
     "metadata": {},
     "output_type": "execute_result"
    }
   ],
   "source": [
    "y_pred = grbt_2.predict(X_test)\n",
    "y_pred"
   ]
  },
  {
   "cell_type": "code",
   "execution_count": 30,
   "metadata": {},
   "outputs": [
    {
     "name": "stdout",
     "output_type": "stream",
     "text": [
      "0.5871559633027523\n",
      "0.765625\n"
     ]
    }
   ],
   "source": [
    "#from sklearn.metrics import confusion_matrix\n",
    "#cm = confusion_matrix(X_test,y_pred)\n",
    "#print(cm)\n",
    "from sklearn.metrics import f1_score\n",
    "from sklearn.metrics import accuracy_score\n",
    "print(f1_score(y_test,grbt_2.predict(X_test)))\n",
    "print(accuracy_score(y_test,y_pred))"
   ]
  },
  {
   "cell_type": "code",
   "execution_count": null,
   "metadata": {},
   "outputs": [],
   "source": []
  }
 ],
 "metadata": {
  "kernelspec": {
   "display_name": "Python 3",
   "language": "python",
   "name": "python3"
  },
  "language_info": {
   "codemirror_mode": {
    "name": "ipython",
    "version": 3
   },
   "file_extension": ".py",
   "mimetype": "text/x-python",
   "name": "python",
   "nbconvert_exporter": "python",
   "pygments_lexer": "ipython3",
   "version": "3.6.1"
  }
 },
 "nbformat": 4,
 "nbformat_minor": 2
}
